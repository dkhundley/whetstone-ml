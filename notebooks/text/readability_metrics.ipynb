{
 "cells": [
  {
   "cell_type": "markdown",
   "metadata": {},
   "source": [
    "# Readability Metrics\n",
    "This notebook will introduce an overview of readability metrics and how to use them in Python. Readability metrics are used to measure how easy it is to read a text. They are used in various fields, such as education, linguistics, and natural language processing. In this notebook, we will cover the following topics:\n",
    "\n",
    "- What are readability metrics?\n",
    "- How to calculate readability metrics in Python\n",
    "- How to interpret the results of readability metrics\n",
    "- How to use readability metrics in practice\n",
    "\n",
    "## What are readability metrics?\n",
    "Readability metrics are quantitative measures that are used to assess the readability of a text. They are used to evaluate how easy or difficult it is to read and understand a text. Readability metrics are based on various linguistic and cognitive factors, such as sentence length, word length, and vocabulary complexity.\n",
    "\n",
    "There are many different readability metrics, each with its own formula and interpretation. Some of the most commonly used readability metrics include:\n",
    "  \n",
    "- **Simple Measure of Gobbledygook (SMOG)**: This metric estimates the years of formal education required to understand a text. The formula for the SMOG is:\n",
    "\n",
    "  $1.043 \\times \\sqrt{\\text{number of complex words} \\times \\frac{30}{\\text{number of sentences}}} + 3.1291$\n",
    "  \n",
    "- **Dale-Chall Readability Score**: This metric estimates the grade level required to understand a text. The formula for the Dale-Chall Readability Score is:\n",
    "\n",
    "  $0.1579 \\times (\\text{percentage of difficult words} + 0.0496 \\times \\text{average words per sentence})$\n",
    "  \n",
    "- **Spache Readability Formula**: This metric estimates the grade level required to understand a text. The formula for the Spache Readability Formula is:\n",
    "\n",
    "  $0.121 \\times \\text{average sentence length} + 0.082 \\times \\text{average syllables per word} - 0.659$\n",
    "  \n",
    "- **Linsear Write Formula**: This metric estimates the grade level required to understand a text. The formula for the Linsear Write Formula is:\n",
    "\n",
    "  $\\frac{(\\text{number of easy words} + \\text{number of hard words}) \\times 2}{\\text{number of sentences}} - 2$\n",
    "  \n",
    "- **FORCAST Readability Formula**: This metric estimates the grade level required to understand a text. The formula for the FORCAST Readability Formula is:\n",
    "\n",
    "  $20 - \\frac{\\text{number of syllables} \\times 0.1}{\\text{number of sentences}}$\n",
    "  \n",
    "- **Raygor Readability Estimate**: This metric estimates the grade level required to understand a text. The formula for the Raygor Readability Estimate is:\n",
    "\n",
    "  $0.1579 \\times \\text{average words per sentence} + 0.0496 \\times \\text{percentage of difficult words} + 3.6365$\n",
    "  \n",
    "- **LIX Readability Formula**: This metric estimates the grade level required to understand a text. The formula for the LIX Readability Formula is:\n",
    "\n",
    "  $\\frac{\\text{number of words}}{\\text{number of sentences}} + \\frac{\\text{number of long words} \\times 100}{\\text{number of words}}$\n",
    "  \n",
    "- **RIX Readability Formula**: This metric estimates the grade level required to understand a text. The formula for the RIX Readability Formula is:\n",
    "\n",
    "  $\\frac{\\text{number of long words}}{\\text{number of sentences}}$\n",
    "  \n",
    "- **Strain Index**: This metric estimates the grade level required to understand a text. The formula for the Strain Index is:\n",
    "\n",
    "  $\\frac{\\text{number of long words} \\times 100}{\\text{number of sentences}}$\n",
    "  \n",
    "- **Readability Consensus Grade**: This metric estimates the grade level required to understand a text. The formula for the Readability Consensus Grade is:\n",
    "\n",
    "  $\\frac{\\text{Flesch-Kincaid Grade Level} + \\text{Gunning Fog Index} + \\text{Coleman-Liau Index} + \\text{Automated Readability Index} + \\text{SMOG} + \\text{Dale-Chall Readability Score} + \\text{Spache Readability Formula} + \\text{New Dale-Chall Readability Score} + \\text{Linsear Write Formula} + \\text{FORCAST Readability Formula} + \\text{Raygor Readability Estimate} + \\text{LIX Readability Formula} + \\text{RIX Readability Formula} + \\text{Strain Index}}{14}$"
   ]
  },
  {
   "cell_type": "markdown",
   "metadata": {},
   "source": [
    "## Notebook Setup"
   ]
  },
  {
   "cell_type": "code",
   "execution_count": 1,
   "metadata": {},
   "outputs": [],
   "source": [
    "# Importing the necessary Python libraries\n",
    "from whetstone.metrics.text.readability_metrics import (\n",
    "    calculate_flesch_kincaid_reading_ease,\n",
    "    calculate_flesch_kincaid_grade_level,\n",
    "    calculate_gunning_fog_index, \n",
    "    calculate_coleman_liau_index,\n",
    "    calculate_automated_readability_index,\n",
    "    calculate_smog_index,\n",
    "    calculate_dale_chall_readability_score,\n",
    "    calculate_spache_readability_formula,\n",
    "    calculate_linsear_write_formula,\n",
    "    calculate_forcast_readability_formula,\n",
    "    calculate_raygor_readability_estimate,\n",
    "    calculate_lix_readability_score,\n",
    "    calculate_rix_readability_score,\n",
    "    calculate_strain_index,\n",
    "    calculate_new_dale_chall_readability_score,\n",
    "    calculate_readability_consensus_grade,\n",
    "    calculate_all_readability_metrics\n",
    ")"
   ]
  },
  {
   "cell_type": "code",
   "execution_count": 2,
   "metadata": {},
   "outputs": [],
   "source": [
    "# Creating some high quality and low quality text\n",
    "high_quality_text = \"\"\"Creating a strong password is your first line of defense in the digital age, where cyber threats constantly evolve. Hackers are increasingly adept at exploiting vulnerabilities, making it crucial to understand the importance of robust security measures. While it may be convenient to use simple and memorable combinations like birthdays or pet names, such choices are perilously insecure. They leave your personal and financial information exposed to malicious attacks.\n",
    "\n",
    "Think of a password as a digital fortress. To build this fortress, security experts recommend a mix of uppercase and lowercase letters, numbers, and special characters. The complexity of such a password makes it significantly more difficult for hackers to crack using brute-force methods. Additionally, the length of your password plays a pivotal role; each extra character exponentially increases the time required to breach it.\n",
    "\n",
    "It’s not just about creating a single strong password, though. Using unique passwords for each of your accounts is essential. A single breach could otherwise grant hackers access to multiple platforms, compounding the damage.\n",
    "\n",
    "Cybercrime costs the global economy billions of dollars annually. The effort required to create and maintain strong passwords pales in comparison to the consequences of a security failure. Just as you would invest in a sturdy lock to protect your home, you should prioritize secure passwords to safeguard your digital assets. In a world where data is increasingly valuable, this small step can make a world of difference.\"\"\"\n",
    "\n",
    "\n",
    "\n",
    "low_quality_text = \"\"\"So, like, passwords are super important for, like, cyber-security and stuff. You know how there are hackers everywhere these days? They’re always trying to get into people’s accounts, which is kinda scary. It reminds me of this one time my cousin got hacked. It was so bad—like, they stole his email and even tried to get into his bank account or whatever. Anyway, this is why you’ve gotta make sure you’re using good passwords, but not something obvious like your birthday or your dog’s name. (By the way, my dog’s name is Max. He’s super cute, but yeah, don’t use that as a password.)\n",
    "\n",
    "So, like, those IT security experts and computer nerds are always saying stuff like, “Use capitals and lowercase letters and numbers and those weird symbols on your keyboard.” You know, the ones you never use unless you’re doing something nerdy like coding or whatever? Oh, and they say to make your passwords really long. Like, the longer the better, I guess. I don’t know why, but it makes it harder for hackers, which is good.\n",
    "\n",
    "Passwords are kinda like keys to your house, but for the internet. Or maybe it’s more like a vault or something? I dunno, but it’s super important because if a hacker gets in, they can take all your stuff. And not just money—they can steal your identity or your Instagram account, which would be awful. So yeah, make good passwords. Like, seriously.\"\"\""
   ]
  },
  {
   "cell_type": "markdown",
   "metadata": {},
   "source": [
    "## Calculating Each Readability Metric\n"
   ]
  },
  {
   "cell_type": "code",
   "execution_count": 3,
   "metadata": {},
   "outputs": [
    {
     "name": "stdout",
     "output_type": "stream",
     "text": [
      "Results for Flesch-Kincaid Reading Ease:\n",
      "High quality text: [36.36]\n",
      "Low quality text: [73.09]\n"
     ]
    }
   ],
   "source": [
    "# Calculating the Flesch-Kincaid Reading Ease score for the high and low quality text\n",
    "print('Results for Flesch-Kincaid Reading Ease:')\n",
    "high_quality_flesch_kincaid_reading_ease_score = calculate_flesch_kincaid_reading_ease(high_quality_text)\n",
    "low_quality_flesch_kincaid_reading_ease_score = calculate_flesch_kincaid_reading_ease(low_quality_text)\n",
    "print(f'High quality text: {high_quality_flesch_kincaid_reading_ease_score}')\n",
    "print(f'Low quality text: {low_quality_flesch_kincaid_reading_ease_score}')\n"
   ]
  },
  {
   "cell_type": "code",
   "execution_count": 4,
   "metadata": {},
   "outputs": [
    {
     "name": "stdout",
     "output_type": "stream",
     "text": [
      "Results for Flesch-Kincaid Grade Level:\n",
      "High quality text: [12.1]\n",
      "Low quality text: [6.59]\n"
     ]
    }
   ],
   "source": [
    "# Calculating the Flesch-Kincaid Grade Level score for the high and low quality text\n",
    "print('Results for Flesch-Kincaid Grade Level:')\n",
    "high_quality_flesch_kincaid_grade_level_score = calculate_flesch_kincaid_grade_level(high_quality_text)\n",
    "low_quality_flesch_kincaid_grade_level_score = calculate_flesch_kincaid_grade_level(low_quality_text)\n",
    "print(f'High quality text: {high_quality_flesch_kincaid_grade_level_score}')\n",
    "print(f'Low quality text: {low_quality_flesch_kincaid_grade_level_score}')"
   ]
  },
  {
   "cell_type": "code",
   "execution_count": 5,
   "metadata": {},
   "outputs": [
    {
     "name": "stdout",
     "output_type": "stream",
     "text": [
      "Results for Gunning Fog Index:\n",
      "High quality text: 15.422296918767508\n",
      "Low quality text: 8.670723684210527\n"
     ]
    }
   ],
   "source": [
    "# Calculating the Gunning Fog Index score for the high and low quality text\n",
    "print('Results for Gunning Fog Index:')\n",
    "high_quality_gunning_fog_index_score = calculate_gunning_fog_index(high_quality_text)\n",
    "low_quality_gunning_fog_index_score = calculate_gunning_fog_index(low_quality_text)\n",
    "print(f'High quality text: {high_quality_gunning_fog_index_score}')\n",
    "print(f'Low quality text: {low_quality_gunning_fog_index_score}')"
   ]
  },
  {
   "cell_type": "code",
   "execution_count": 6,
   "metadata": {},
   "outputs": [
    {
     "name": "stdout",
     "output_type": "stream",
     "text": [
      "Results for Coleman-Liau Index:\n",
      "High quality text: [14.03]\n",
      "Low quality text: [6.63]\n"
     ]
    }
   ],
   "source": [
    "# Calculating the Coleman-Liau Index score for the high and low quality text\n",
    "print('Results for Coleman-Liau Index:')\n",
    "high_quality_coleman_liau_index_score = calculate_coleman_liau_index(high_quality_text)\n",
    "low_quality_coleman_liau_index_score = calculate_coleman_liau_index(low_quality_text)\n",
    "print(f'High quality text: {high_quality_coleman_liau_index_score}')\n",
    "print(f'Low quality text: {low_quality_coleman_liau_index_score}')"
   ]
  },
  {
   "cell_type": "code",
   "execution_count": 7,
   "metadata": {},
   "outputs": [
    {
     "name": "stdout",
     "output_type": "stream",
     "text": [
      "Results for Automated Readability Index:\n",
      "High quality text: [11.89]\n",
      "Low quality text: [5.64]\n"
     ]
    }
   ],
   "source": [
    "# Calculating the Automated Readability Index score for the high and low quality text\n",
    "print('Results for Automated Readability Index:')\n",
    "high_quality_automated_readability_index_score = calculate_automated_readability_index(high_quality_text)\n",
    "low_quality_automated_readability_index_score = calculate_automated_readability_index(low_quality_text)\n",
    "print(f'High quality text: {high_quality_automated_readability_index_score}')\n",
    "print(f'Low quality text: {low_quality_automated_readability_index_score}')"
   ]
  },
  {
   "cell_type": "code",
   "execution_count": 8,
   "metadata": {},
   "outputs": [
    {
     "name": "stdout",
     "output_type": "stream",
     "text": [
      "Results for SMOG Index:\n",
      "High quality text: [13.97]\n",
      "Low quality text: [9.48]\n"
     ]
    }
   ],
   "source": [
    "# Calculating the SMOG Index score for the high and low quality text\n",
    "print('Results for SMOG Index:')\n",
    "high_quality_smog_index_score = calculate_smog_index(high_quality_text)\n",
    "low_quality_smog_index_score = calculate_smog_index(low_quality_text)\n",
    "print(f'High quality text: {high_quality_smog_index_score}')\n",
    "print(f'Low quality text: {low_quality_smog_index_score}')"
   ]
  },
  {
   "cell_type": "code",
   "execution_count": 9,
   "metadata": {},
   "outputs": [
    {
     "name": "stdout",
     "output_type": "stream",
     "text": [
      "Results for Dale-Chall Readability Score:\n",
      "High quality text: [3.71]\n",
      "Low quality text: [1.41]\n"
     ]
    }
   ],
   "source": [
    "# Calculating the Dale-Chall Readability Score for the high and low quality text\n",
    "print('Results for Dale-Chall Readability Score:')\n",
    "high_quality_dale_chall_readability_score = calculate_dale_chall_readability_score(high_quality_text)\n",
    "low_quality_dale_chall_readability_score = calculate_dale_chall_readability_score(low_quality_text)\n",
    "print(f'High quality text: {high_quality_dale_chall_readability_score}')\n",
    "print(f'Low quality text: {low_quality_dale_chall_readability_score}')"
   ]
  },
  {
   "cell_type": "code",
   "execution_count": 10,
   "metadata": {},
   "outputs": [
    {
     "name": "stdout",
     "output_type": "stream",
     "text": [
      "Results for Spache Readability Formula:\n",
      "High quality text: [1.41]\n",
      "Low quality text: [1.28]\n"
     ]
    }
   ],
   "source": [
    "# Calculating the Spache Readability Formula score for the high and low quality text\n",
    "print('Results for Spache Readability Formula:')\n",
    "high_quality_spache_readability_formula_score = calculate_spache_readability_formula(high_quality_text)\n",
    "low_quality_spache_readability_formula_score = calculate_spache_readability_formula(low_quality_text)\n",
    "print(f'High quality text: {high_quality_spache_readability_formula_score}')\n",
    "print(f'Low quality text: {low_quality_spache_readability_formula_score}')"
   ]
  },
  {
   "cell_type": "code",
   "execution_count": 11,
   "metadata": {},
   "outputs": [
    {
     "name": "stdout",
     "output_type": "stream",
     "text": [
      "Results for Linsear Write Formula:\n",
      "High quality text: [29.73]\n",
      "Low quality text: [28.12]\n"
     ]
    }
   ],
   "source": [
    "# Calculating the Linsear Write Formula score for the high and low quality text\n",
    "print('Results for Linsear Write Formula:')\n",
    "high_quality_linsear_write_formula_score = calculate_linsear_write_formula(high_quality_text)\n",
    "low_quality_linsear_write_formula_score = calculate_linsear_write_formula(low_quality_text)\n",
    "print(f'High quality text: {high_quality_linsear_write_formula_score}')\n",
    "print(f'Low quality text: {low_quality_linsear_write_formula_score}')"
   ]
  },
  {
   "cell_type": "code",
   "execution_count": 12,
   "metadata": {},
   "outputs": [
    {
     "name": "stdout",
     "output_type": "stream",
     "text": [
      "Results for FORCAST Readability Formula:\n",
      "High quality text: [17.13]\n",
      "Low quality text: [17.94]\n"
     ]
    }
   ],
   "source": [
    "# Calculating the FORCAST Readability Formula score for the high and low quality text\n",
    "print('Results for FORCAST Readability Formula:')\n",
    "high_quality_forcast_readability_formula_score = calculate_forcast_readability_formula(high_quality_text)\n",
    "low_quality_forcast_readability_formula_score = calculate_forcast_readability_formula(low_quality_text)\n",
    "print(f'High quality text: {high_quality_forcast_readability_formula_score}')\n",
    "print(f'Low quality text: {low_quality_forcast_readability_formula_score}')"
   ]
  },
  {
   "cell_type": "code",
   "execution_count": 13,
   "metadata": {},
   "outputs": [
    {
     "name": "stdout",
     "output_type": "stream",
     "text": [
      "Results for Raygor Readability Estimate:\n",
      "High quality text: [7.27]\n",
      "Low quality text: [6.42]\n"
     ]
    }
   ],
   "source": [
    "# Calculating the Raygor Readability Estimate score for the high and low quality text\n",
    "print('Results for Raygor Readability Estimate:')\n",
    "high_quality_raygor_readability_estimate_score = calculate_raygor_readability_estimate(high_quality_text)\n",
    "low_quality_raygor_readability_estimate_score = calculate_raygor_readability_estimate(low_quality_text)\n",
    "print(f'High quality text: {high_quality_raygor_readability_estimate_score}')\n",
    "print(f'Low quality text: {low_quality_raygor_readability_estimate_score}')"
   ]
  },
  {
   "cell_type": "code",
   "execution_count": 14,
   "metadata": {},
   "outputs": [
    {
     "name": "stdout",
     "output_type": "stream",
     "text": [
      "Results for LIX Readability Score:\n",
      "High quality text: [51.16]\n",
      "Low quality text: [29.51]\n"
     ]
    }
   ],
   "source": [
    "# Calculating the LIX Readability Score for the high and low quality text\n",
    "print('Results for LIX Readability Score:')\n",
    "high_quality_lix_readability_score = calculate_lix_readability_score(high_quality_text)\n",
    "low_quality_lix_readability_score = calculate_lix_readability_score(low_quality_text)\n",
    "print(f'High quality text: {high_quality_lix_readability_score}')\n",
    "print(f'Low quality text: {low_quality_lix_readability_score}')"
   ]
  },
  {
   "cell_type": "code",
   "execution_count": 15,
   "metadata": {},
   "outputs": [
    {
     "name": "stdout",
     "output_type": "stream",
     "text": [
      "Results for RIX Readability Score:\n",
      "High quality text: [5.6]\n",
      "Low quality text: [2.18]\n"
     ]
    }
   ],
   "source": [
    "# Calculating the RIX Readability Score for the high and low quality text\n",
    "print('Results for RIX Readability Score:')\n",
    "high_quality_rix_readability_score = calculate_rix_readability_score(high_quality_text)\n",
    "low_quality_rix_readability_score = calculate_rix_readability_score(low_quality_text)\n",
    "print(f'High quality text: {high_quality_rix_readability_score}')\n",
    "print(f'Low quality text: {low_quality_rix_readability_score}')"
   ]
  },
  {
   "cell_type": "code",
   "execution_count": 16,
   "metadata": {},
   "outputs": [
    {
     "name": "stdout",
     "output_type": "stream",
     "text": [
      "Results for Strain Index:\n",
      "High quality text: [560.0]\n",
      "Low quality text: [217.65]\n"
     ]
    }
   ],
   "source": [
    "# Calculating the Strain Index score for the high and low quality text\n",
    "print('Results for Strain Index:')\n",
    "high_quality_strain_index_score = calculate_strain_index(high_quality_text)\n",
    "low_quality_strain_index_score = calculate_strain_index(low_quality_text)\n",
    "print(f'High quality text: {high_quality_strain_index_score}')\n",
    "print(f'Low quality text: {low_quality_strain_index_score}')"
   ]
  },
  {
   "cell_type": "code",
   "execution_count": 17,
   "metadata": {},
   "outputs": [
    {
     "name": "stdout",
     "output_type": "stream",
     "text": [
      "Results for New Dale-Chall Readability Score:\n",
      "High quality text: [8.01]\n",
      "Low quality text: [5.68]\n"
     ]
    }
   ],
   "source": [
    "# Calculating the New Dale-Chall Readability Score for the high and low quality text\n",
    "print('Results for New Dale-Chall Readability Score:')\n",
    "high_quality_new_dale_chall_readability_score = calculate_new_dale_chall_readability_score(high_quality_text)\n",
    "low_quality_new_dale_chall_readability_score = calculate_new_dale_chall_readability_score(low_quality_text)\n",
    "print(f'High quality text: {high_quality_new_dale_chall_readability_score}')\n",
    "print(f'Low quality text: {low_quality_new_dale_chall_readability_score}')"
   ]
  },
  {
   "cell_type": "code",
   "execution_count": 18,
   "metadata": {},
   "outputs": [
    {
     "name": "stdout",
     "output_type": "stream",
     "text": [
      "Results for Readability Consensus Grade:\n",
      "High quality text: [53.67]\n",
      "Low quality text: [24.8]\n"
     ]
    }
   ],
   "source": [
    "# Calculating the Readability Consensus Grade for the high and low quality text\n",
    "print('Results for Readability Consensus Grade:')\n",
    "high_quality_readability_consensus_grade = calculate_readability_consensus_grade(high_quality_text)\n",
    "low_quality_readability_consensus_grade = calculate_readability_consensus_grade(low_quality_text)\n",
    "print(f'High quality text: {high_quality_readability_consensus_grade}')\n",
    "print(f'Low quality text: {low_quality_readability_consensus_grade}')"
   ]
  },
  {
   "cell_type": "code",
   "execution_count": 19,
   "metadata": {},
   "outputs": [
    {
     "name": "stdout",
     "output_type": "stream",
     "text": [
      "Results for all Readability Metrics:\n",
      "High quality text: [{'flesch_kincaid_reading_ease': 36.36, 'flesch_kincaid_grade_level': 12.1, 'gunning_fog_index': 15.422296918767508, 'coleman_liau_index': 14.03, 'automated_readability_index': 11.89, 'smog_index': 13.97, 'dale_chall_readability_score': 3.71, 'spache_readability_formula': 1.41, 'new_dale_chall_readability_score': 8.01, 'linsear_write_formula': 29.73, 'forcast_readability_formula': 17.13, 'raygor_readability_estimate': 7.27, 'lix_readability_score': 51.16, 'rix_readability_score': 5.6, 'strain_index': 560.0, 'readability_consensus_grade': 53.67}]\n",
      "Low quality text: [{'flesch_kincaid_reading_ease': 73.09, 'flesch_kincaid_grade_level': 6.59, 'gunning_fog_index': 8.670723684210527, 'coleman_liau_index': 6.63, 'automated_readability_index': 5.64, 'smog_index': 9.48, 'dale_chall_readability_score': 1.41, 'spache_readability_formula': 1.28, 'new_dale_chall_readability_score': 5.68, 'linsear_write_formula': 28.12, 'forcast_readability_formula': 17.94, 'raygor_readability_estimate': 6.42, 'lix_readability_score': 29.51, 'rix_readability_score': 2.18, 'strain_index': 217.65, 'readability_consensus_grade': 24.8}]\n"
     ]
    }
   ],
   "source": [
    "# Calculating all readability metrics for the high and low quality text\n",
    "print('Results for all Readability Metrics:')\n",
    "high_quality_all_readability_metrics = calculate_all_readability_metrics(high_quality_text)\n",
    "low_quality_all_readability_metrics = calculate_all_readability_metrics(low_quality_text)\n",
    "print(f'High quality text: {high_quality_all_readability_metrics}')\n",
    "print(f'Low quality text: {low_quality_all_readability_metrics}')"
   ]
  },
  {
   "cell_type": "code",
   "execution_count": null,
   "metadata": {},
   "outputs": [],
   "source": []
  }
 ],
 "metadata": {
  "kernelspec": {
   "display_name": "Python 3",
   "language": "python",
   "name": "python3"
  },
  "language_info": {
   "codemirror_mode": {
    "name": "ipython",
    "version": 3
   },
   "file_extension": ".py",
   "mimetype": "text/x-python",
   "name": "python",
   "nbconvert_exporter": "python",
   "pygments_lexer": "ipython3",
   "version": "3.11.9"
  }
 },
 "nbformat": 4,
 "nbformat_minor": 2
}
