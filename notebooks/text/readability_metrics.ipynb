{
 "cells": [
  {
   "cell_type": "markdown",
   "metadata": {},
   "source": [
    "# Readability Metrics\n",
    "This notebook will introduce an overview of readability metrics and how to use them in Python. Readability metrics are used to measure how easy it is to read a text. They are used in various fields, such as education, linguistics, and natural language processing. In this notebook, we will cover the following topics:\n",
    "- What are readability metrics?\n",
    "- How to calculate readability metrics in Python\n",
    "- How to interpret the results of readability metrics\n",
    "- How to use readability metrics in practice\n",
    "\n",
    "## What are readability metrics?\n",
    "Readability metrics are quantitative measures that are used to assess the readability of a text. They are used to evaluate how easy or difficult it is to read and understand a text. Readability metrics are based on various linguistic and cognitive factors, such as sentence length, word length, and vocabulary complexity.\n",
    "\n",
    "There are many different readability metrics, each with its own formula and interpretation. Some of the most commonly used readability metrics include:\n",
    "\n",
    "- **Gunning Fog Index**: This metric estimates the years of formal education required to understand a text. The formula for the Gunning Fog Index is:\n",
    "\n",
    "  $0.4 \\times (\\text{average words per sentence} + 100 \\times \\text{percentage of complex words})$\n",
    "  \n",
    "- **Coleman-Liau Index**: This metric estimates the grade level required to understand a text. The formula for the Coleman-Liau Index is:\n",
    "\n",
    "  $0.0588 \\times \\text{average letters per 100 words} - 0.296 \\times \\text{average sentences per 100 words} - 15.8$\n",
    "  \n",
    "- **Automated Readability Index (ARI)**: This metric estimates the grade level required to understand a text. The formula for the ARI is:\n",
    "\n",
    "  $4.71 \\times \\text{average characters per word} + 0.5 \\times \\text{average words per sentence} - 21.43$\n",
    "  \n",
    "- **Simple Measure of Gobbledygook (SMOG)**: This metric estimates the years of formal education required to understand a text. The formula for the SMOG is:\n",
    "\n",
    "  $1.043 \\times \\sqrt{\\text{number of complex words} \\times \\frac{30}{\\text{number of sentences}}} + 3.1291$\n",
    "  \n",
    "- **Dale-Chall Readability Score**: This metric estimates the grade level required to understand a text. The formula for the Dale-Chall Readability Score is:\n",
    "\n",
    "  $0.1579 \\times (\\text{percentage of difficult words} + 0.0496 \\times \\text{average words per sentence})$\n",
    "  \n",
    "- **Spache Readability Formula**: This metric estimates the grade level required to understand a text. The formula for the Spache Readability Formula is:\n",
    "\n",
    "  $0.121 \\times \\text{average sentence length} + 0.082 \\times \\text{average syllables per word} - 0.659$\n",
    "  \n",
    "- **Linsear Write Formula**: This metric estimates the grade level required to understand a text. The formula for the Linsear Write Formula is:\n",
    "\n",
    "  $\\frac{(\\text{number of easy words} + \\text{number of hard words}) \\times 2}{\\text{number of sentences}} - 2$\n",
    "  \n",
    "- **FORCAST Readability Formula**: This metric estimates the grade level required to understand a text. The formula for the FORCAST Readability Formula is:\n",
    "\n",
    "  $20 - \\frac{\\text{number of syllables} \\times 0.1}{\\text{number of sentences}}$\n",
    "  \n",
    "- **Raygor Readability Estimate**: This metric estimates the grade level required to understand a text. The formula for the Raygor Readability Estimate is:\n",
    "\n",
    "  $0.1579 \\times \\text{average words per sentence} + 0.0496 \\times \\text{percentage of difficult words} + 3.6365$\n",
    "  \n",
    "- **LIX Readability Formula**: This metric estimates the grade level required to understand a text. The formula for the LIX Readability Formula is:\n",
    "\n",
    "  $\\frac{\\text{number of words}}{\\text{number of sentences}} + \\frac{\\text{number of long words} \\times 100}{\\text{number of words}}$\n",
    "  \n",
    "- **RIX Readability Formula**: This metric estimates the grade level required to understand a text. The formula for the RIX Readability Formula is:\n",
    "\n",
    "  $\\frac{\\text{number of long words}}{\\text{number of sentences}}$\n",
    "  \n",
    "- **Strain Index**: This metric estimates the grade level required to understand a text. The formula for the Strain Index is:\n",
    "\n",
    "  $\\frac{\\text{number of long words} \\times 100}{\\text{number of sentences}}$\n",
    "  \n",
    "- **Readability Consensus Grade**: This metric estimates the grade level required to understand a text. The formula for the Readability Consensus Grade is:\n",
    "\n",
    "  $\\frac{\\text{Flesch-Kincaid Grade Level} + \\text{Gunning Fog Index} + \\text{Coleman-Liau Index} + \\text{Automated Readability Index} + \\text{SMOG} + \\text{Dale-Chall Readability Score} + \\text{Spache Readability Formula} + \\text{New Dale-Chall Readability Score} + \\text{Linsear Write Formula} + \\text{FORCAST Readability Formula} + \\text{Raygor Readability Estimate} + \\text{LIX Readability Formula} + \\text{RIX Readability Formula} + \\text{Strain Index}}{14}$"
   ]
  },
  {
   "cell_type": "markdown",
   "metadata": {},
   "source": [
    "## Notebook Setup"
   ]
  },
  {
   "cell_type": "code",
   "execution_count": 1,
   "metadata": {},
   "outputs": [],
   "source": [
    "# Importing the necessary Python libraries\n",
    "from whetstone.metrics.text.readability_metrics import calculate_flesch_kincaid_reading_ease, calculate_flesch_kincaid_grade_level"
   ]
  },
  {
   "cell_type": "code",
   "execution_count": 2,
   "metadata": {},
   "outputs": [],
   "source": [
    "# Creating some high quality and low quality text\n",
    "high_quality_text = \"\"\"Creating a strong password is your first line of defense in the digital age, where cyber threats constantly evolve. Hackers are increasingly adept at exploiting vulnerabilities, making it crucial to understand the importance of robust security measures. While it may be convenient to use simple and memorable combinations like birthdays or pet names, such choices are perilously insecure. They leave your personal and financial information exposed to malicious attacks.\n",
    "\n",
    "Think of a password as a digital fortress. To build this fortress, security experts recommend a mix of uppercase and lowercase letters, numbers, and special characters. The complexity of such a password makes it significantly more difficult for hackers to crack using brute-force methods. Additionally, the length of your password plays a pivotal role; each extra character exponentially increases the time required to breach it.\n",
    "\n",
    "It’s not just about creating a single strong password, though. Using unique passwords for each of your accounts is essential. A single breach could otherwise grant hackers access to multiple platforms, compounding the damage.\n",
    "\n",
    "Cybercrime costs the global economy billions of dollars annually. The effort required to create and maintain strong passwords pales in comparison to the consequences of a security failure. Just as you would invest in a sturdy lock to protect your home, you should prioritize secure passwords to safeguard your digital assets. In a world where data is increasingly valuable, this small step can make a world of difference.\"\"\"\n",
    "\n",
    "\n",
    "\n",
    "low_quality_text = \"\"\"So, like, passwords are super important for, like, cyber-security and stuff. You know how there are hackers everywhere these days? They’re always trying to get into people’s accounts, which is kinda scary. It reminds me of this one time my cousin got hacked. It was so bad—like, they stole his email and even tried to get into his bank account or whatever. Anyway, this is why you’ve gotta make sure you’re using good passwords, but not something obvious like your birthday or your dog’s name. (By the way, my dog’s name is Max. He’s super cute, but yeah, don’t use that as a password.)\n",
    "\n",
    "So, like, those IT security experts and computer nerds are always saying stuff like, “Use capitals and lowercase letters and numbers and those weird symbols on your keyboard.” You know, the ones you never use unless you’re doing something nerdy like coding or whatever? Oh, and they say to make your passwords really long. Like, the longer the better, I guess. I don’t know why, but it makes it harder for hackers, which is good.\n",
    "\n",
    "Passwords are kinda like keys to your house, but for the internet. Or maybe it’s more like a vault or something? I dunno, but it’s super important because if a hacker gets in, they can take all your stuff. And not just money—they can steal your identity or your Instagram account, which would be awful. So yeah, make good passwords. Like, seriously.\"\"\""
   ]
  },
  {
   "cell_type": "markdown",
   "metadata": {},
   "source": [
    "## Calculating Each Readability Metric\n"
   ]
  },
  {
   "cell_type": "markdown",
   "metadata": {},
   "source": [
    "The Flesch-Kincade Reading Ease metric is a readiability formula used to assess teh complexity of English texts by assigning a score that reflects how easy or difficult it is to understand.\n",
    "\n",
    "This metric measures the readability of a text on a scale from 0 to 100, with higher scores indicating easier readability. The formula for the Flesch-Kincaid Reading Ease score is:\n",
    "\n",
    "$$206.835 - 1.015 \\times \\text{average words per sentence} - 84.6 \\times \\text{average syllables per word}$$\n",
    "\n",
    "This score may be interpreted using the table below:\n",
    "\n",
    "| Score  | Reading Level       | Description           |\n",
    "|--------|---------------------|-----------------------|\n",
    "| 90-100 | 5th grade           | Very easy to read     |\n",
    "| 80-89  | 6th grade           | Easy to read          |\n",
    "| 70-79  | 7th grade           | Fairly easy           |\n",
    "| 60-69  | 8th-9th grade       | Plain English         |\n",
    "| 50-59  | 10th-12th grade     | Fairly difficult      |\n",
    "| 30-49  | College             | Difficult             |\n",
    "| 0-29   | College graduate    | Very difficult        |\n",
    "\n",
    "Generally speaking, writers should aim for a score of 60 or higher, which indicates that the text is easily understood by most adults. Flesch-Kincaid Reading Ease is widely used in the field of education and is often used to evaluate the readability of textbooks and other educational materials. The Flesch-Kincaid Reading Ease metric is also used by software tools, like Microsoft Word, as a metric for readability analysis."
   ]
  },
  {
   "cell_type": "code",
   "execution_count": 3,
   "metadata": {},
   "outputs": [
    {
     "name": "stdout",
     "output_type": "stream",
     "text": [
      "Results for Flesch-Kincaid Reading Ease:\n",
      "High quality text: [36.36]\n",
      "Low quality text: [73.09]\n"
     ]
    }
   ],
   "source": [
    "# Calculating the Flesch-Kincaid Reading Ease score for the high and low quality text\n",
    "print('Results for Flesch-Kincaid Reading Ease:')\n",
    "high_quality_flesch_kincaid_reading_ease_score = calculate_flesch_kincaid_reading_ease(high_quality_text)\n",
    "low_quality_flesch_kincaid_reading_ease_score = calculate_flesch_kincaid_reading_ease(low_quality_text)\n",
    "print(f'High quality text: {high_quality_flesch_kincaid_reading_ease_score}')\n",
    "print(f'Low quality text: {low_quality_flesch_kincaid_reading_ease_score}')\n"
   ]
  },
  {
   "cell_type": "markdown",
   "metadata": {},
   "source": [
    "### Flesch-Kincaid Grade Level\n",
    "This metric estimates the grade level required to understand a text. The formula for the Flesch-Kincaid Grade Level is:\n",
    "\n",
    "  $0.39 \\times \\text{average words per sentence} + 11.8 \\times \\text{average syllables per word} - 15.59$\n",
    "\n",
    "This score may be interpreted using the table below:\n",
    "\n",
    "| Grade Level | Description           |\n",
    "|-------------|-----------------------|\n",
    "| 0-1         | Kindergarten          |\n",
    "| 2-3         | 1st-3rd grade         |\n",
    "| 4-5         | 4th-5th grade         |\n",
    "| 6-7         | 6th-7th grade         |\n",
    "| 8-9         | 8th-9th grade         |\n",
    "| 10-11       | 10th-11th grade       |\n",
    "| 12-13       | 12th grade            |\n",
    "| 14-15       | College               |\n",
    "\n",
    "The Flesch-Kincaid Grade Level is often used in the field of education to assess the readability of textbooks and other educational materials. It is also used in natural language processing to evaluate the complexity of text data."
   ]
  },
  {
   "cell_type": "code",
   "execution_count": 4,
   "metadata": {},
   "outputs": [
    {
     "name": "stdout",
     "output_type": "stream",
     "text": [
      "Results for Flesch-Kincaid Grade Level:\n",
      "High quality text: [12.1]\n",
      "Low quality text: [6.59]\n"
     ]
    }
   ],
   "source": [
    "# Calculating the Flesch-Kincaid Grade Level score for the high and low quality text\n",
    "print('Results for Flesch-Kincaid Grade Level:')\n",
    "high_quality_flesch_kincaid_grade_level_score = calculate_flesch_kincaid_grade_level(high_quality_text)\n",
    "low_quality_flesch_kincaid_grade_level_score = calculate_flesch_kincaid_grade_level(low_quality_text)\n",
    "print(f'High quality text: {high_quality_flesch_kincaid_grade_level_score}')\n",
    "print(f'Low quality text: {low_quality_flesch_kincaid_grade_level_score}')"
   ]
  },
  {
   "cell_type": "code",
   "execution_count": null,
   "metadata": {},
   "outputs": [],
   "source": []
  }
 ],
 "metadata": {
  "kernelspec": {
   "display_name": "Python 3",
   "language": "python",
   "name": "python3"
  },
  "language_info": {
   "codemirror_mode": {
    "name": "ipython",
    "version": 3
   },
   "file_extension": ".py",
   "mimetype": "text/x-python",
   "name": "python",
   "nbconvert_exporter": "python",
   "pygments_lexer": "ipython3",
   "version": "3.11.9"
  }
 },
 "nbformat": 4,
 "nbformat_minor": 2
}
